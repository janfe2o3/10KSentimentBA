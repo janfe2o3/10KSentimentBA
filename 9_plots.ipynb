{
 "cells": [
  {
   "cell_type": "code",
   "execution_count": 4,
   "metadata": {},
   "outputs": [
    {
     "name": "stdout",
     "output_type": "stream",
     "text": [
      "                word       percent\n",
      "the         12228432  6.963875e+00\n",
      "and          9286636  5.288574e+00\n",
      "our          3067490  1.746881e+00\n",
      "for          2680589  1.526548e+00\n",
      "are          1643660  9.360352e-01\n",
      "...              ...           ...\n",
      "talkie             1  5.694822e-07\n",
      "defections         1  5.694822e-07\n",
      "shingled           1  5.694822e-07\n",
      "dusk               1  5.694822e-07\n",
      "boles              1  5.694822e-07\n",
      "\n",
      "[29693 rows x 2 columns]\n"
     ]
    }
   ],
   "source": [
    "import matplotlib.pyplot as plt\n",
    "import pandas as pd\n",
    "import time\n",
    "import numpy as np\n",
    "import settings\n",
    "\n",
    "df1= pd.read_excel(settings.csv_path+'/text_statistic.xlsx', index_col=0,sheet_name='No filter')\n",
    "df2= pd.read_excel(settings.csv_path+'/text_statistic.xlsx', index_col=0,sheet_name='No stop words')\n",
    "df3= pd.read_excel(settings.csv_path+'/text_statistic.xlsx', index_col=0,sheet_name='Only negative')\n",
    "df4= pd.read_excel(settings.csv_path+'/text_statistic.xlsx', index_col=0,sheet_name='Only positive')\n",
    "df5= pd.read_excel(settings.csv_path+'/text_statistic.xlsx', index_col=0,sheet_name='Only uncertainty')\n",
    "\n",
    "\n",
    "df1['percent'] = (df1['word'] / df1['word'].sum()) * 100\n",
    "df2['percent'] = (df2['word'] / df2['word'].sum()) * 100\n",
    "df3['percent'] = (df3['word'] / df3['word'].sum()) * 100\n",
    "df4['percent'] = (df4['word'] / df4['word'].sum()) * 100\n",
    "df5['percent'] = (df5['word'] / df5['word'].sum()) * 100\n",
    "\n",
    "\n",
    "print(df1)"
   ]
  },
  {
   "cell_type": "code",
   "execution_count": 18,
   "metadata": {},
   "outputs": [
    {
     "data": {
      "text/plain": [
       "<AxesSubplot:xlabel='Häufigkeit', ylabel='Häufigkeit'>"
      ]
     },
     "execution_count": 18,
     "metadata": {},
     "output_type": "execute_result"
    },
    {
     "data": {
      "image/png": "[encoded data removed]",
      "text/plain": [
       "<Figure size 432x288 with 1 Axes>"
      ]
     },
     "metadata": {
      "needs_background": "light"
     },
     "output_type": "display_data"
    }
   ],
   "source": [
    "df6=df1.head(100)\n",
    "df6['word'].plot(xticks=[], xlabel='Häufigkeit',ylabel='Häufigkeit')"
   ]
  }
 ],
 "metadata": {
  "interpreter": {
   "hash": "5c2a26602e28ad08aeb3db5218c8af55fd3775ea6ffbecb1728e15703c31277b"
  },
  "kernelspec": {
   "display_name": "Python 3.9.7 64-bit",
   "language": "python",
   "name": "python3"
  },
  "language_info": {
   "codemirror_mode": {
    "name": "ipython",
    "version": 3
   },
   "file_extension": ".py",
   "mimetype": "text/x-python",
   "name": "python",
   "nbconvert_exporter": "python",
   "pygments_lexer": "ipython3",
   "version": "3.9.7"
  },
  "orig_nbformat": 4
 },
 "nbformat": 4,
 "nbformat_minor": 2
}
