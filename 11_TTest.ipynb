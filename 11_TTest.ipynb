{
 "cells": [
  {
   "cell_type": "code",
   "execution_count": 1,
   "metadata": {},
   "outputs": [
    {
     "name": "stdout",
     "output_type": "stream",
     "text": [
      "count    4091.000000\n",
      "mean        0.002228\n",
      "std         0.035934\n",
      "min        -0.245898\n",
      "25%        -0.013250\n",
      "50%         0.001288\n",
      "75%         0.017706\n",
      "max         0.317786\n",
      "Name: abnormal_return, dtype: float64\n",
      "(2045, 35)\n",
      "(2045, 35)\n",
      "Ttest_indResult(statistic=-1.0561535180424353, pvalue=0.2909604930164739)\n"
     ]
    },
    {
     "data": {
      "image/png": "[encoded data removed]",
      "text/plain": [
       "<Figure size 432x288 with 1 Axes>"
      ]
     },
     "metadata": {
      "needs_background": "light"
     },
     "output_type": "display_data"
    }
   ],
   "source": [
    "from scipy import stats\n",
    "import pandas as pd\n",
    "import settings\n",
    "from matplotlib import pyplot as plt\n",
    "'''\n",
    "Part 11\n",
    "Calculate the T-statistic for the means of two independent samples of scores (positiv and negativ sentiment sample)\n",
    "\n",
    "Two-sided test for the null hypothesis that 2 independent samples have identical average (expected) values..\n",
    "'''\n",
    "\n",
    "# Short event window\n",
    "df= pd.read_excel(settings.csv_path+'/return_result.xlsx', index_col=0)\n",
    "print(df['abnormal_return'].describe())\n",
    "df1= df.loc[df['tone']>df['tone'].quantile(0.5)]\n",
    "df2= df.loc[df['tone']<df['tone'].quantile(0.5)]\n",
    "print(df1.shape)\n",
    "print(df2.shape)\n",
    "x=stats.ttest_ind( df1['abnormal_return'],df2['abnormal_return'])\n",
    "print(x)\n",
    "df1=df1.loc[(df1['abnormal_return']>df1['abnormal_return'].quantile(0.01)) & (df1['abnormal_return']<df1['abnormal_return'].quantile(0.99))]\n",
    "df2=df2.loc[(df2['abnormal_return']>df2['abnormal_return'].quantile(0.01))& (df2['abnormal_return']<df2['abnormal_return'].quantile(0.99))]\n",
    "x=df1['abnormal_return']\n",
    "y=df2['abnormal_return']\n",
    "plt.hist([x, y], 30, label=['positive Sentiment', 'neagtive Sentiment'])\n",
    "plt.legend(loc='upper right')\n",
    "plt.show()"
   ]
  },
  {
   "cell_type": "code",
   "execution_count": 2,
   "metadata": {},
   "outputs": [
    {
     "name": "stdout",
     "output_type": "stream",
     "text": [
      "count    3908.000000\n",
      "mean        0.008911\n",
      "std         0.099871\n",
      "min        -0.676901\n",
      "25%        -0.036187\n",
      "50%         0.011002\n",
      "75%         0.056753\n",
      "max         0.859585\n",
      "Name: CAR34, dtype: float64\n",
      "(1954, 67)\n",
      "(1954, 67)\n",
      "Ttest_indResult(statistic=0.8020055737217872, pvalue=0.42259852330335124)\n"
     ]
    },
    {
     "data": {
      "image/png": "[encoded data removed]",
      "text/plain": [
       "<Figure size 432x288 with 1 Axes>"
      ]
     },
     "metadata": {
      "needs_background": "light"
     },
     "output_type": "display_data"
    }
   ],
   "source": [
    "# Long event window\n",
    "df= pd.read_excel(settings.csv_path+'/return_result2.xlsx', index_col=0)\n",
    "df1= df.loc[df['tone']>df['tone'].quantile(0.5)]\n",
    "df2= df.loc[df['tone']<df['tone'].quantile(0.5)]\n",
    "print(df['CAR34'].describe())\n",
    "print(df1.shape)\n",
    "print(df2.shape)\n",
    "x=stats.ttest_ind( df1['CAR34'],df2['CAR34'])\n",
    "print(x)\n",
    "\n",
    "df1=df1.loc[(df1['CAR34']>df1['CAR34'].quantile(0.01)) & (df1['CAR34']<df1['CAR34'].quantile(0.99))]\n",
    "df2=df2.loc[(df2['CAR34']>df2['CAR34'].quantile(0.01))& (df2['CAR34']<df2['CAR34'].quantile(0.99))]\n",
    "\n",
    "x=df1['CAR34']\n",
    "y=df2['CAR34']\n",
    "ax=plt.hist([x, y], 30, label=['positives Sentiment', 'neagtives Sentiment'])\n",
    "plt.legend(loc='upper right')\n",
    "plt.title('Verteilung positiver und negativer Stichprobe')\n",
    "plt.show()"
   ]
  }
 ],
 "metadata": {
  "interpreter": {
   "hash": "5c2a26602e28ad08aeb3db5218c8af55fd3775ea6ffbecb1728e15703c31277b"
  },
  "kernelspec": {
   "display_name": "Python 3.9.5 64-bit",
   "language": "python",
   "name": "python3"
  },
  "language_info": {
   "codemirror_mode": {
    "name": "ipython",
    "version": 3
   },
   "file_extension": ".py",
   "mimetype": "text/x-python",
   "name": "python",
   "nbconvert_exporter": "python",
   "pygments_lexer": "ipython3",
   "version": "3.9.7"
  },
  "orig_nbformat": 4
 },
 "nbformat": 4,
 "nbformat_minor": 2
}
